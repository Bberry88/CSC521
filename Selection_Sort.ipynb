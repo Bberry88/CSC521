{
  "nbformat": 4,
  "nbformat_minor": 0,
  "metadata": {
    "colab": {
      "provenance": [],
      "authorship_tag": "ABX9TyOXrNGTCLAGuTZcCXublv0L",
      "include_colab_link": true
    },
    "kernelspec": {
      "name": "python3",
      "display_name": "Python 3"
    },
    "language_info": {
      "name": "python"
    }
  },
  "cells": [
    {
      "cell_type": "markdown",
      "metadata": {
        "id": "view-in-github",
        "colab_type": "text"
      },
      "source": [
        "<a href=\"https://colab.research.google.com/github/Bberry88/CSC521/blob/main/Selection_Sort.ipynb\" target=\"_parent\"><img src=\"https://colab.research.google.com/assets/colab-badge.svg\" alt=\"Open In Colab\"/></a>"
      ]
    },
    {
      "cell_type": "code",
      "execution_count": null,
      "metadata": {
        "colab": {
          "base_uri": "https://localhost:8080/"
        },
        "id": "4uPKUDEMdKza",
        "outputId": "cbb137b7-7a5e-4d0b-c9ab-2313458ac3ca"
      },
      "outputs": [
        {
          "output_type": "stream",
          "name": "stdout",
          "text": [
            "Original array: [64, 25, 12, 22, 11]\n",
            "After iteration 1 : [11, 25, 12, 22, 64]\n",
            "After iteration 2 : [11, 12, 25, 22, 64]\n",
            "After iteration 3 : [11, 12, 22, 25, 64]\n",
            "After iteration 4 : [11, 12, 22, 25, 64]\n",
            "After iteration 5 : [11, 12, 22, 25, 64]\n",
            "Sorted array: [11, 12, 22, 25, 64]\n"
          ]
        }
      ],
      "source": [
        "def selectionSort(arr):\n",
        "  n = len(arr)\n",
        "  # Traverse through all array elements\n",
        "  for i in range(n):\n",
        "\n",
        "    # Find the minimum element in remaining unsorted array\n",
        "    min_idx = i\n",
        "    for j in range(i+1, n):\n",
        "        if arr[j] < arr[min_idx]:\n",
        "            min_idx = j\n",
        "\n",
        "    # Swap the found minimum element with\n",
        "    # the first element\n",
        "    arr[i], arr[min_idx] = arr[min_idx], arr[i]\n",
        "\n",
        "    print('After iteration', i+1, ':', arr)\n",
        "\n",
        "  return arr\n",
        "\n",
        "# Driver code to test above\n",
        "arr = [64, 25, 12, 22, 11]\n",
        "print('Original array:', arr)\n",
        "sorted_arr = selectionSort(arr)\n",
        "print('Sorted array:', sorted_arr)\n"
      ]
    }
  ]
}
{
  "nbformat": 4,
  "nbformat_minor": 0,
  "metadata": {
    "colab": {
      "provenance": [],
      "authorship_tag": "ABX9TyOQktv1WXbsrZGaghmat2YG",
      "include_colab_link": true
    },
    "kernelspec": {
      "name": "python3",
      "display_name": "Python 3"
    },
    "language_info": {
      "name": "python"
    }
  },
  "cells": [
    {
      "cell_type": "markdown",
      "metadata": {
        "id": "view-in-github",
        "colab_type": "text"
      },
      "source": [
        "<a href=\"https://colab.research.google.com/github/Bberry88/CSC521/blob/main/Estiva_Jay_HW4.ipynb\" target=\"_parent\"><img src=\"https://colab.research.google.com/assets/colab-badge.svg\" alt=\"Open In Colab\"/></a>"
      ]
    },
    {
      "cell_type": "markdown",
      "source": [
        "Jay Estiva\n"
      ],
      "metadata": {
        "id": "Y_7dyxGUw_Lf"
      }
    },
    {
      "cell_type": "markdown",
      "source": [
        "*CSC521*\n",
        "HW4"
      ],
      "metadata": {
        "id": "k68McM0V4wRG"
      }
    },
    {
      "cell_type": "code",
      "execution_count": null,
      "metadata": {
        "id": "cEM4kSzbFP04",
        "colab": {
          "base_uri": "https://localhost:8080/"
        },
        "outputId": "76a6a0d3-3b9f-4d77-d6fe-71227d2e176c"
      },
      "outputs": [
        {
          "output_type": "stream",
          "name": "stdout",
          "text": [
            "Step:  [34, 64, 25, 12, 22, 11, 90]\n",
            "Step:  [34, 25, 64, 12, 22, 11, 90]\n",
            "Step:  [34, 25, 12, 64, 22, 11, 90]\n",
            "Step:  [34, 25, 12, 22, 64, 11, 90]\n",
            "Step:  [34, 25, 12, 22, 11, 64, 90]\n",
            "Step:  [34, 25, 12, 22, 11, 64, 90]\n",
            "After pass 1 : [34, 25, 12, 22, 11, 64, 90]\n",
            "\n",
            "Step:  [25, 34, 12, 22, 11, 64, 90]\n",
            "Step:  [25, 12, 34, 22, 11, 64, 90]\n",
            "Step:  [25, 12, 22, 34, 11, 64, 90]\n",
            "Step:  [25, 12, 22, 11, 34, 64, 90]\n",
            "Step:  [25, 12, 22, 11, 34, 64, 90]\n",
            "After pass 2 : [25, 12, 22, 11, 34, 64, 90]\n",
            "\n",
            "Step:  [12, 25, 22, 11, 34, 64, 90]\n",
            "Step:  [12, 22, 25, 11, 34, 64, 90]\n",
            "Step:  [12, 22, 11, 25, 34, 64, 90]\n",
            "Step:  [12, 22, 11, 25, 34, 64, 90]\n",
            "After pass 3 : [12, 22, 11, 25, 34, 64, 90]\n",
            "\n",
            "Step:  [12, 22, 11, 25, 34, 64, 90]\n",
            "Step:  [12, 11, 22, 25, 34, 64, 90]\n",
            "Step:  [12, 11, 22, 25, 34, 64, 90]\n",
            "After pass 4 : [12, 11, 22, 25, 34, 64, 90]\n",
            "\n",
            "Step:  [11, 12, 22, 25, 34, 64, 90]\n",
            "Step:  [11, 12, 22, 25, 34, 64, 90]\n",
            "After pass 5 : [11, 12, 22, 25, 34, 64, 90]\n",
            "\n",
            "Step:  [11, 12, 22, 25, 34, 64, 90]\n",
            "After pass 6 : [11, 12, 22, 25, 34, 64, 90]\n",
            "\n",
            "After pass 7 : [11, 12, 22, 25, 34, 64, 90]\n",
            "\n",
            "Sorted array: \n",
            "11 12 22 25 34 64 90\n",
            "\n",
            "Step:  [1, 2, 25, 16, 12, 12, 101]\n",
            "Step:  [1, 2, 25, 16, 12, 12, 101]\n",
            "Step:  [1, 2, 16, 25, 12, 12, 101]\n",
            "Step:  [1, 2, 16, 12, 25, 12, 101]\n",
            "Step:  [1, 2, 16, 12, 12, 25, 101]\n",
            "Step:  [1, 2, 16, 12, 12, 25, 101]\n",
            "After pass 1 : [1, 2, 16, 12, 12, 25, 101]\n",
            "\n",
            "Step:  [1, 2, 16, 12, 12, 25, 101]\n",
            "Step:  [1, 2, 16, 12, 12, 25, 101]\n",
            "Step:  [1, 2, 12, 16, 12, 25, 101]\n",
            "Step:  [1, 2, 12, 12, 16, 25, 101]\n",
            "Step:  [1, 2, 12, 12, 16, 25, 101]\n",
            "After pass 2 : [1, 2, 12, 12, 16, 25, 101]\n",
            "\n",
            "Step:  [1, 2, 12, 12, 16, 25, 101]\n",
            "Step:  [1, 2, 12, 12, 16, 25, 101]\n",
            "Step:  [1, 2, 12, 12, 16, 25, 101]\n",
            "Step:  [1, 2, 12, 12, 16, 25, 101]\n",
            "After pass 3 : [1, 2, 12, 12, 16, 25, 101]\n",
            "\n",
            "Step:  [1, 2, 12, 12, 16, 25, 101]\n",
            "Step:  [1, 2, 12, 12, 16, 25, 101]\n",
            "Step:  [1, 2, 12, 12, 16, 25, 101]\n",
            "After pass 4 : [1, 2, 12, 12, 16, 25, 101]\n",
            "\n",
            "Step:  [1, 2, 12, 12, 16, 25, 101]\n",
            "Step:  [1, 2, 12, 12, 16, 25, 101]\n",
            "After pass 5 : [1, 2, 12, 12, 16, 25, 101]\n",
            "\n",
            "Step:  [1, 2, 12, 12, 16, 25, 101]\n",
            "After pass 6 : [1, 2, 12, 12, 16, 25, 101]\n",
            "\n",
            "After pass 7 : [1, 2, 12, 12, 16, 25, 101]\n",
            "\n",
            "Sorted array: \n",
            "1 2 12 12 16 25 101\n"
          ]
        }
      ],
      "source": [
        "#1. Bubble Sort\n",
        "def bubbleSort(arr):\n",
        "    n = len(arr)\n",
        "\n",
        "    #Traverse through all array elements\n",
        "    for i in range(n):\n",
        "      #Last i elements are already in place\n",
        "        for j in range(0, n-i-1):\n",
        "          #Traverse the array from 0 - n-i-1\n",
        "          #Swap if the element found is greater than the next element\n",
        "            if arr[j] > arr[j+1]:\n",
        "                arr[j], arr[j+1] = arr[j+1], arr[j]\n",
        "            #Print the array after each swap\n",
        "            print('Step: ', arr)\n",
        "        print('After pass', i+1, ':', arr)\n",
        "        print('')\n",
        "    return arr\n",
        "\n",
        "arr1 = [64, 34, 25, 12, 22, 11, 90]\n",
        "arr2 = [2, 1, 25, 16, 12, 12, 101]\n",
        "\n",
        "bubbleSort(arr1)\n",
        "print('Sorted array: ')\n",
        "print(' '.join(str(x) for x in arr1))\n",
        "print('')\n",
        "\n",
        "bubbleSort(arr2)\n",
        "print('Sorted array: ')\n",
        "print(' '.join(str(x) for x in arr2))"
      ]
    },
    {
      "cell_type": "code",
      "execution_count": null,
      "metadata": {
        "colab": {
          "base_uri": "https://localhost:8080/"
        },
        "id": "4uPKUDEMdKza",
        "outputId": "03c9977d-7628-4be8-a446-1803074c7275"
      },
      "outputs": [
        {
          "output_type": "stream",
          "name": "stdout",
          "text": [
            "Original array: [64, 25, 12, 22, 11]\n",
            "After iteration 1 : [11, 25, 12, 22, 64]\n",
            "After iteration 2 : [11, 12, 25, 22, 64]\n",
            "After iteration 3 : [11, 12, 22, 25, 64]\n",
            "After iteration 4 : [11, 12, 22, 25, 64]\n",
            "After iteration 5 : [11, 12, 22, 25, 64]\n",
            "Sorted array: [11, 12, 22, 25, 64]\n",
            "\n",
            "Original array: [64, 34, 25, 12, 22, 11, 90]\n",
            "After iteration 1 : [11, 34, 25, 12, 22, 64, 90]\n",
            "After iteration 2 : [11, 12, 25, 34, 22, 64, 90]\n",
            "After iteration 3 : [11, 12, 22, 34, 25, 64, 90]\n",
            "After iteration 4 : [11, 12, 22, 25, 34, 64, 90]\n",
            "After iteration 5 : [11, 12, 22, 25, 34, 64, 90]\n",
            "After iteration 6 : [11, 12, 22, 25, 34, 64, 90]\n",
            "After iteration 7 : [11, 12, 22, 25, 34, 64, 90]\n",
            "Sorted array: [11, 12, 22, 25, 34, 64, 90]\n",
            "\n",
            "Original array: [2, 1, 25, 16, 12, 12, 101]\n",
            "After iteration 1 : [1, 2, 25, 16, 12, 12, 101]\n",
            "After iteration 2 : [1, 2, 25, 16, 12, 12, 101]\n",
            "After iteration 3 : [1, 2, 12, 16, 25, 12, 101]\n",
            "After iteration 4 : [1, 2, 12, 12, 25, 16, 101]\n",
            "After iteration 5 : [1, 2, 12, 12, 16, 25, 101]\n",
            "After iteration 6 : [1, 2, 12, 12, 16, 25, 101]\n",
            "After iteration 7 : [1, 2, 12, 12, 16, 25, 101]\n",
            "Sorted array: [1, 2, 12, 12, 16, 25, 101]\n"
          ]
        }
      ],
      "source": [
        "#2. Selection Sort\n",
        "def selectionSort(arr):\n",
        "  n = len(arr)\n",
        "  #Traverse through all array elements\n",
        "  for i in range(n):\n",
        "\n",
        "    #Find the minimum element in remaining unsorted array\n",
        "    min_idx = i\n",
        "    for j in range(i+1, n):\n",
        "        if arr[j] < arr[min_idx]:\n",
        "            min_idx = j\n",
        "\n",
        "    #Swap the found minimum element with\n",
        "    #the first element of the unsorted part\n",
        "    arr[i], arr[min_idx] = arr[min_idx], arr[i]\n",
        "\n",
        "  #Print the array aftrer each iteration of the selection sort\n",
        "    print('After iteration', i+1, ':', arr)\n",
        "\n",
        "  return arr\n",
        "\n",
        "#Driver code to test above\n",
        "arr1 = [64, 25, 12, 22, 11]\n",
        "print('Original array:', arr1)\n",
        "sorted_arr1 = selectionSort(arr1)\n",
        "print('Sorted array:', sorted_arr1)\n",
        "print('')\n",
        "\n",
        "\n",
        "arr2 = [64, 34, 25, 12, 22, 11, 90]\n",
        "print('Original array:', arr2)\n",
        "sorted_arr2 = selectionSort(arr2)\n",
        "print('Sorted array:', sorted_arr2)\n",
        "print('')\n",
        "\n",
        "arr3 = [2, 1, 25, 16, 12, 12, 101]\n",
        "print('Original array:', arr3)\n",
        "sorted_arr3 = selectionSort(arr3)\n",
        "print('Sorted array:', sorted_arr3)"
      ]
    }
  ]
}
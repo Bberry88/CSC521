{
  "nbformat": 4,
  "nbformat_minor": 0,
  "metadata": {
    "colab": {
      "provenance": [],
      "authorship_tag": "ABX9TyMW7cvRh6LTv7sqNlKc0F25",
      "include_colab_link": true
    },
    "kernelspec": {
      "name": "python3",
      "display_name": "Python 3"
    },
    "language_info": {
      "name": "python"
    }
  },
  "cells": [
    {
      "cell_type": "markdown",
      "metadata": {
        "id": "view-in-github",
        "colab_type": "text"
      },
      "source": [
        "<a href=\"https://colab.research.google.com/github/Bberry88/CSC521/blob/main/Linear_Search.ipynb\" target=\"_parent\"><img src=\"https://colab.research.google.com/assets/colab-badge.svg\" alt=\"Open In Colab\"/></a>"
      ]
    },
    {
      "cell_type": "code",
      "execution_count": null,
      "metadata": {
        "colab": {
          "base_uri": "https://localhost:8080/"
        },
        "id": "4xxQx42ikUgD",
        "outputId": "80a8bd46-0d7b-4ad4-f125-f31210fc3c25"
      },
      "outputs": [
        {
          "output_type": "stream",
          "name": "stdout",
          "text": [
            "Iteration 1: Checking element 1\n",
            "Iteration 2: Checking element 3\n",
            "Iteration 3: Checking element 5\n",
            "Element found at index: 2\n"
          ]
        }
      ],
      "source": [
        "def linear_search(arr, target):\n",
        "    #Loop through all elements in the array\n",
        "    for i in range(len(arr)):\n",
        "      print(f'Iteration {i + 1}: Checking element {arr[i]}')\n",
        "\n",
        "        #Check if the current element is equal to the target\n",
        "      if arr[i] == target:\n",
        "        return i\n",
        "\n",
        "    #If the element is not found, return -1\n",
        "    print(f'Target {target} not found')\n",
        "    return -1\n",
        "\n",
        "#Example usage:\n",
        "arr = [1, 3, 5, 7, 9]\n",
        "target = 5\n",
        "\n",
        "result = linear_search(arr, target)\n",
        "\n",
        "if result == -1:\n",
        "    print(\"Element not found in the array\")\n",
        "else:\n",
        "    print(f\"Element found at index: {result}\")\n"
      ]
    }
  ]
}
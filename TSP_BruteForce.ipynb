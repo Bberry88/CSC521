{
  "nbformat": 4,
  "nbformat_minor": 0,
  "metadata": {
    "colab": {
      "provenance": [],
      "authorship_tag": "ABX9TyNK18hY9OSlhiFEMtaIygxF",
      "include_colab_link": true
    },
    "kernelspec": {
      "name": "python3",
      "display_name": "Python 3"
    },
    "language_info": {
      "name": "python"
    }
  },
  "cells": [
    {
      "cell_type": "markdown",
      "metadata": {
        "id": "view-in-github",
        "colab_type": "text"
      },
      "source": [
        "<a href=\"https://colab.research.google.com/github/Bberry88/CSC521/blob/main/TSP_BruteForce.ipynb\" target=\"_parent\"><img src=\"https://colab.research.google.com/assets/colab-badge.svg\" alt=\"Open In Colab\"/></a>"
      ]
    },
    {
      "cell_type": "code",
      "execution_count": null,
      "metadata": {
        "colab": {
          "base_uri": "https://localhost:8080/"
        },
        "id": "pGOmsQGldpHc",
        "outputId": "66e8deb4-75a7-4e84-d167-0f092ed3cf95"
      },
      "outputs": [
        {
          "output_type": "stream",
          "name": "stdout",
          "text": [
            "Checking route: [0, 1, 2, 3]\n",
            "Total Distance: 95\n",
            "\n",
            "New best route: [0, 1, 2, 3] with distance 95\n",
            "Checking route: [0, 1, 3, 2]\n",
            "Total Distance: 80\n",
            "\n",
            "New best route: [0, 1, 3, 2] with distance 80\n",
            "Checking route: [0, 2, 1, 3]\n",
            "Total Distance: 95\n",
            "\n",
            "Checking route: [0, 2, 3, 1]\n",
            "Total Distance: 80\n",
            "\n",
            "Checking route: [0, 3, 1, 2]\n",
            "Total Distance: 95\n",
            "\n",
            "Checking route: [0, 3, 2, 1]\n",
            "Total Distance: 95\n",
            "\n",
            "\n",
            "Optimal route: [0, 1, 3, 2]\n",
            "Minimum distance: 80\n"
          ]
        }
      ],
      "source": [
        "from itertools import permutations\n",
        "\n",
        "#Define a function to calculate the total distance of a given route.\n",
        "def calc_total_dist(route, dist_matrix):\n",
        "  total_dist = 0\n",
        "  n = len(route)\n",
        "\n",
        "  #Add up the distances for each pair of cities\n",
        "  for i in range (n-1):\n",
        "    total_dist += dist_matrix[route[i]][+route[i+1]]\n",
        "  #Add the distance to return to starting city\n",
        "  total_dist += dist_matrix[route[-1]][route[0]]\n",
        "  return total_dist\n",
        "\n",
        "#Brute force TSP\n",
        "def tsp_brute_force(dist_matrix):\n",
        "  n = len(dist_matrix)\n",
        "  cities = list(range(n))\n",
        "  min_dist = float('inf')\n",
        "  best_route = None\n",
        "\n",
        "  #Generate all possible permutations of cities\n",
        "  for perm in permutations(cities[1:]):\n",
        "    #Add the starting city (0) at the beginning and end\n",
        "    route = [0] + list(perm)\n",
        "    print(f'Checking route: {route}')\n",
        "    total_dist = calc_total_dist(route, dist_matrix)\n",
        "    print(f'Total Distance: {total_dist}')\n",
        "    print('')\n",
        "\n",
        "      #Update best route if shorter route exists\n",
        "    if total_dist < min_dist:\n",
        "      min_dist = total_dist\n",
        "      best_route = route\n",
        "      print(f'New best route: {best_route} with distance {min_dist}')\n",
        "\n",
        "  return best_route, min_dist\n",
        "\n",
        "#Example distance matrix (A, B, C, D)\n",
        "dist_matrix = [\n",
        "    [0, 10, 15, 20], #Distances from city A\n",
        "    [10, 0, 35, 25], #Distances from city B\n",
        "    [15, 35, 0, 30], #Distances from city C\n",
        "    [20, 25, 30, 0], #Distances from city D\n",
        "]\n",
        "\n",
        "#Solve the TSP\n",
        "best_route, min_dist = tsp_brute_force(dist_matrix)\n",
        "\n",
        "print('\\nOptimal route:', best_route)\n",
        "print('Minimum distance:', min_dist)"
      ]
    }
  ]
}